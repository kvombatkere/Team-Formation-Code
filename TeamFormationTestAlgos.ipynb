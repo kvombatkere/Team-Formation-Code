{
 "cells": [
  {
   "cell_type": "code",
   "execution_count": 1,
   "metadata": {},
   "outputs": [],
   "source": [
    "## Test Team Formation framework with Freelancer Data\n",
    "## Balancing Task Coverage vs. Maximum Expert Load\n",
    "## Karan Vombatkere, Dec 2021\n",
    "\n",
    "#Imports\n",
    "import pandas as pd\n",
    "import matplotlib.pyplot as plt\n",
    "import json, time\n",
    "import TeamFormationProblem as TFP"
   ]
  },
  {
   "cell_type": "code",
   "execution_count": null,
   "metadata": {},
   "outputs": [],
   "source": []
  },
  {
   "cell_type": "markdown",
   "metadata": {},
   "source": [
    "#### Simple synthetic Data"
   ]
  },
  {
   "cell_type": "code",
   "execution_count": null,
   "metadata": {},
   "outputs": [],
   "source": [
    "#Preliminary Testing\n",
    "task_list = [['s1', 's2', 's4', 's5'], ['s3', 's2'], ['s1', 's3', 's5'], ['s2', 's4'],['s1', 's4', 's5'], ['s3'], ['s1', 's5'], ['s2', 's4']]\n",
    "expert_list = [['s2', 's3'], ['s2', 's4'], ['s3'], ['s5', 's4']]\n",
    "\n",
    "teamFormationTest = TFP.TeamFormationProblem(task_list, expert_list, max_workload_threshold=6)\n",
    "#teamFormationTest.computeTaskAssigment(lazy_eval=False)"
   ]
  },
  {
   "cell_type": "code",
   "execution_count": null,
   "metadata": {},
   "outputs": [],
   "source": [
    "rtdict = teamFormationTest.computeTaskAssigment(baselines=['task_greedy'], plot_flag=False)"
   ]
  },
  {
   "cell_type": "code",
   "execution_count": null,
   "metadata": {},
   "outputs": [],
   "source": [
    "#teamFormationTest.compareTest_Lazy_Stochastic_Assignments()\n",
    "#t,f, r = teamFormationTest.compute_reverseThreshold()\n",
    "#reverse_runtime, regular_runtime = teamFormationTest.compare_Methods()"
   ]
  },
  {
   "cell_type": "markdown",
   "metadata": {},
   "source": [
    "#### Freelancer Dataset"
   ]
  },
  {
   "cell_type": "code",
   "execution_count": null,
   "metadata": {},
   "outputs": [],
   "source": [
    "#Import Freelancer data\n",
    "#Freelancer from DropBox link: https://www.dropbox.com/sh/8zpsi1etvvvvj5k/AAD-J9ZQmSsbnSmEILBMD9uxa/datasets/real?dl=0&subfolder_nav_tracking=1\n",
    "#freelance_experts.csv and freelance_projects.csv\n",
    "\n",
    "def extract_skills(row):\n",
    "    skills = []\n",
    "    for i,val in enumerate(row):\n",
    "        if val == 1:\n",
    "            skills.append(str(i))\n",
    "    return skills            \n",
    "\n",
    "    \n",
    "def importFreelancerData(experts_filename='datasets/freelancer/freelancer_experts.csv', tasks_filename='datasets/freelancer/freelancer_projects.csv'):\n",
    "    #Extract tasks skills as list\n",
    "    freelance_tasks_df = pd.read_csv(tasks_filename, header=None)\n",
    "    freelance_tasks_df['Task_Skills'] = freelance_tasks_df.apply(lambda row: extract_skills(row), axis=1)\n",
    "    task_skills_list = freelance_tasks_df.Task_Skills.to_list()\n",
    "    \n",
    "    #Extract experts skills as list\n",
    "    freelance_experts_df = pd.read_csv(experts_filename, header=None)\n",
    "    freelance_experts_df['Expert_Skills'] = freelance_experts_df.apply(lambda row: extract_skills(row), axis=1)\n",
    "    expert_skills_list = freelance_experts_df.Expert_Skills.to_list()\n",
    "\n",
    "    print(\"Imported Freelancer dataset. Num Experts={}, Num Tasks={}\".format(len(expert_skills_list),len(task_skills_list)))\n",
    "\n",
    "    return task_skills_list, expert_skills_list\n",
    "    "
   ]
  },
  {
   "cell_type": "code",
   "execution_count": null,
   "metadata": {},
   "outputs": [],
   "source": [
    "t,e = importFreelancerData()\n",
    "FreelancerTest = TFP.TeamFormationProblem(t, e, max_workload_threshold=50)"
   ]
  },
  {
   "cell_type": "code",
   "execution_count": null,
   "metadata": {},
   "outputs": [],
   "source": [
    "rtimes = FreelancerTest.computeTaskAssigment(baselines=['random','no_update_greedy'], plot_flag=True)"
   ]
  },
  {
   "cell_type": "code",
   "execution_count": null,
   "metadata": {},
   "outputs": [],
   "source": []
  },
  {
   "cell_type": "markdown",
   "metadata": {},
   "source": [
    "#### IMDB Datasets"
   ]
  },
  {
   "cell_type": "code",
   "execution_count": 2,
   "metadata": {},
   "outputs": [],
   "source": [
    "#Import IMDB Data\n",
    "def importIMDBData(experts_filename, tasks_filename):\n",
    "    with open(experts_filename, 'r') as f:\n",
    "        expert_skills_list = json.loads(f.read())\n",
    "    \n",
    "    with open(tasks_filename, 'r') as f:\n",
    "        task_skills_list = json.loads(f.read())\n",
    "\n",
    "    print(\"Imported IMDB dataset. Num Experts={}, Num Tasks={}\".format(len(expert_skills_list),len(task_skills_list)))\n",
    "\n",
    "    return task_skills_list, expert_skills_list, \n",
    "\n",
    "#Run algorithm on IMDB datasets\n",
    "def testIMDBDatasets():\n",
    "    imdb_data_path = 'datasets/imdb/'\n",
    "    movieYears = [2015, 2018, 2020]\n",
    "\n",
    "    runTimeStamp = str(time.strftime(\"%m-%d-%H:%M:%S\", time.localtime(time.time())))\n",
    "    imdb_outfilename = \"experiments/imdb_\" + runTimeStamp + \".txt\"\n",
    "    outfile_imdb = open(imdb_outfilename, \"a\")\n",
    "    outfile_imdb.write(\"IMDB dataset Team-Formation Algorithms: {}\\n\".format(runTimeStamp))\n",
    "\n",
    "    for y in movieYears:\n",
    "        experts_file = imdb_data_path + 'imdb_experts_' + str(y) + '.txt'\n",
    "        tasks_file = imdb_data_path + 'imdb_tasks_' + str(y) + '.txt'\n",
    "        print(\"IMDB Dataset: {}, {}\".format('imdb_experts_' + str(y), 'imdb_tasks_' + str(y)))\n",
    "\n",
    "        imdb_tasks, imdb_experts = importIMDBData(experts_file, tasks_file)\n",
    "        IMDBTest = TFP.TeamFormationProblem(imdb_tasks[0:100], imdb_experts[0:100])\n",
    "\n",
    "        rt_dict = IMDBTest.computeTaskAssigment(baselines=['random', 'no_update_greedy', 'task_greedy'], plot_flag=False)\n",
    "\n",
    "        #Write output to file\n",
    "        runInfo = \"\\nIMDB movieYear = {}, Experts = {}, Tasks = {}\".format(str(y), str(IMDBTest.n), str(IMDBTest.m))\n",
    "        outfile_imdb.write(runInfo)\n",
    "\n",
    "        runtimeInfo = \"\\nAlgorithm Runtimes: Total = {:.3f}s; Lazy Greedy = {:.3f}s; No-Update-Greedy = {:.3f}s; Task Greedy = {:.3f}s; Random = {:.3f}s;\\\n",
    "            \\n\".format(rt_dict['total'], rt_dict['lazyGreedy'], rt_dict['noUpdateGreedy'], rt_dict['taskGreedy'], rt_dict['random'])\n",
    "        outfile_imdb.write(runtimeInfo)\n",
    "        \n",
    "    outfile_imdb.close()\n",
    "\n",
    "    return None\n",
    "    "
   ]
  },
  {
   "cell_type": "code",
   "execution_count": 3,
   "metadata": {},
   "outputs": [
    {
     "name": "stderr",
     "output_type": "stream",
     "text": [
      "2022-04-10 23:23:01,222 |INFO: ------------Team Formation Problem initialized with 100 tasks and 100 experts---------\n",
      "2022-04-10 23:23:01,260 |INFO: Pre-Computed Lambda value = 0.24\n",
      "2022-04-10 23:23:01,261 |INFO: --------------------------Computing Greedy Task Assignment (Lazy Eval)------------------------------------\n",
      "2022-04-10 23:23:01,290 |INFO: Computed Greedy Task Assignment (Lazy Eval) for T_i=1, F_i=13.537\n",
      "2022-04-10 23:23:01,294 |INFO: Computed Baseline Random Task Assignment for T_i=1, F_i = 2.998\n",
      "2022-04-10 23:23:01,312 |INFO: Computed Baseline No-Update Greedy Task Assignment for T_i=1, F_i = 1.360\n",
      "2022-04-10 23:23:01,343 |INFO: Computed Greedy Task Assignment (Lazy Eval) for T_i=2, F_i=18.670\n",
      "2022-04-10 23:23:01,351 |INFO: Computed Baseline Random Task Assignment for T_i=2, F_i = 5.587\n",
      "2022-04-10 23:23:01,373 |INFO: Computed Baseline No-Update Greedy Task Assignment for T_i=2, F_i = 2.720\n",
      "2022-04-10 23:23:01,407 |INFO: Computed Greedy Task Assignment (Lazy Eval) for T_i=3, F_i=19.971\n",
      "2022-04-10 23:23:01,418 |INFO: Computed Baseline Random Task Assignment for T_i=3, F_i = 7.081\n"
     ]
    },
    {
     "name": "stdout",
     "output_type": "stream",
     "text": [
      "IMDB Dataset: imdb_experts_2015, imdb_tasks_2015\n",
      "Imported IMDB dataset. Num Experts=5551, Num Tasks=18109\n"
     ]
    },
    {
     "name": "stderr",
     "output_type": "stream",
     "text": [
      "2022-04-10 23:23:01,438 |INFO: Computed Baseline No-Update Greedy Task Assignment for T_i=3, F_i = 3.640\n",
      "2022-04-10 23:23:01,471 |INFO: Computed Greedy Task Assignment (Lazy Eval) for T_i=4, F_i=19.672\n",
      "2022-04-10 23:23:01,485 |INFO: Computed Baseline Random Task Assignment for T_i=4, F_i = 9.576\n",
      "2022-04-10 23:23:01,508 |INFO: Computed Baseline No-Update Greedy Task Assignment for T_i=4, F_i = 5.040\n",
      "2022-04-10 23:23:01,508 |INFO: Baseline Task Greedy Task Assignment\n",
      "2022-04-10 23:23:01,560 |INFO: Baseline Task Greedy F_i = 0.000\n",
      "2022-04-10 23:23:01,560 |INFO: Best Task Assignment is for max workload threshold: 3, F_i(max)=19.971 \n",
      "\n",
      "2022-04-10 23:23:01,561 |INFO: \n",
      "Algorithm Runtimes: Total = 0.338s; Lazy Greedy = 0.129s; No-Update-Greedy = 0.081s; Task Greedy = 0.052s; Random = 0.036s;            \n",
      "\n",
      "2022-04-10 23:23:01,612 |INFO: ------------Team Formation Problem initialized with 100 tasks and 100 experts---------\n",
      "2022-04-10 23:23:01,644 |INFO: Pre-Computed Lambda value = 0.30526315789473685\n",
      "2022-04-10 23:23:01,645 |INFO: --------------------------Computing Greedy Task Assignment (Lazy Eval)------------------------------------\n",
      "2022-04-10 23:23:01,677 |INFO: Computed Greedy Task Assignment (Lazy Eval) for T_i=1, F_i=19.456\n",
      "2022-04-10 23:23:01,680 |INFO: Computed Baseline Random Task Assignment for T_i=1, F_i = 4.357\n",
      "2022-04-10 23:23:01,700 |INFO: Computed Baseline No-Update Greedy Task Assignment for T_i=1, F_i = 2.910\n",
      "2022-04-10 23:23:01,732 |INFO: Computed Greedy Task Assignment (Lazy Eval) for T_i=2, F_i=24.525\n",
      "2022-04-10 23:23:01,738 |INFO: Computed Baseline Random Task Assignment for T_i=2, F_i = 7.984\n",
      "2022-04-10 23:23:01,767 |INFO: Computed Baseline No-Update Greedy Task Assignment for T_i=2, F_i = 4.352\n"
     ]
    },
    {
     "name": "stdout",
     "output_type": "stream",
     "text": [
      "IMDB Dataset: imdb_experts_2018, imdb_tasks_2018\n",
      "Imported IMDB dataset. Num Experts=3871, Num Tasks=13183\n"
     ]
    },
    {
     "name": "stderr",
     "output_type": "stream",
     "text": [
      "2022-04-10 23:23:01,799 |INFO: Computed Greedy Task Assignment (Lazy Eval) for T_i=3, F_i=25.482\n",
      "2022-04-10 23:23:01,810 |INFO: Computed Baseline Random Task Assignment for T_i=3, F_i = 11.994\n",
      "2022-04-10 23:23:01,837 |INFO: Computed Baseline No-Update Greedy Task Assignment for T_i=3, F_i = 6.049\n",
      "2022-04-10 23:23:01,870 |INFO: Computed Greedy Task Assignment (Lazy Eval) for T_i=4, F_i=24.855\n",
      "2022-04-10 23:23:01,884 |INFO: Computed Baseline Random Task Assignment for T_i=4, F_i = 13.659\n",
      "2022-04-10 23:23:01,913 |INFO: Computed Baseline No-Update Greedy Task Assignment for T_i=4, F_i = 7.516\n",
      "2022-04-10 23:23:01,914 |INFO: Baseline Task Greedy Task Assignment\n",
      "2022-04-10 23:23:01,962 |INFO: Baseline Task Greedy F_i = -2.000\n",
      "2022-04-10 23:23:01,962 |INFO: Best Task Assignment is for max workload threshold: 3, F_i(max)=25.482 \n",
      "\n",
      "2022-04-10 23:23:01,962 |INFO: \n",
      "Algorithm Runtimes: Total = 0.349s; Lazy Greedy = 0.129s; No-Update-Greedy = 0.106s; Task Greedy = 0.048s; Random = 0.034s;            \n",
      "\n",
      "2022-04-10 23:23:01,965 |INFO: ------------Team Formation Problem initialized with 100 tasks and 100 experts---------\n",
      "2022-04-10 23:23:01,995 |INFO: Pre-Computed Lambda value = 0.24242424242424243\n",
      "2022-04-10 23:23:01,996 |INFO: --------------------------Computing Greedy Task Assignment (Lazy Eval)------------------------------------\n",
      "2022-04-10 23:23:02,022 |INFO: Computed Greedy Task Assignment (Lazy Eval) for T_i=1, F_i=15.178\n",
      "2022-04-10 23:23:02,025 |INFO: Computed Baseline Random Task Assignment for T_i=1, F_i = 3.380\n",
      "2022-04-10 23:23:02,044 |INFO: Computed Baseline No-Update Greedy Task Assignment for T_i=1, F_i = 1.990\n",
      "2022-04-10 23:23:02,072 |INFO: Computed Greedy Task Assignment (Lazy Eval) for T_i=2, F_i=20.016\n",
      "2022-04-10 23:23:02,078 |INFO: Computed Baseline Random Task Assignment for T_i=2, F_i = 5.497\n",
      "2022-04-10 23:23:02,097 |INFO: Computed Baseline No-Update Greedy Task Assignment for T_i=2, F_i = 3.576\n",
      "2022-04-10 23:23:02,127 |INFO: Computed Greedy Task Assignment (Lazy Eval) for T_i=3, F_i=20.420\n",
      "2022-04-10 23:23:02,137 |INFO: Computed Baseline Random Task Assignment for T_i=3, F_i = 7.966\n",
      "2022-04-10 23:23:02,160 |INFO: Computed Baseline No-Update Greedy Task Assignment for T_i=3, F_i = 4.758\n"
     ]
    },
    {
     "name": "stdout",
     "output_type": "stream",
     "text": [
      "IMDB Dataset: imdb_experts_2020, imdb_tasks_2020\n",
      "Imported IMDB dataset. Num Experts=2176, Num Tasks=7858\n"
     ]
    },
    {
     "name": "stderr",
     "output_type": "stream",
     "text": [
      "2022-04-10 23:23:02,192 |INFO: Computed Greedy Task Assignment (Lazy Eval) for T_i=4, F_i=19.925\n",
      "2022-04-10 23:23:02,206 |INFO: Computed Baseline Random Task Assignment for T_i=4, F_i = 8.363\n",
      "2022-04-10 23:23:02,231 |INFO: Computed Baseline No-Update Greedy Task Assignment for T_i=4, F_i = 4.726\n",
      "2022-04-10 23:23:02,232 |INFO: Baseline Task Greedy Task Assignment\n",
      "2022-04-10 23:23:02,279 |INFO: Baseline Task Greedy F_i = 0.000\n",
      "2022-04-10 23:23:02,280 |INFO: Best Task Assignment is for max workload threshold: 3, F_i(max)=20.420 \n",
      "\n",
      "2022-04-10 23:23:02,280 |INFO: \n",
      "Algorithm Runtimes: Total = 0.314s; Lazy Greedy = 0.116s; No-Update-Greedy = 0.086s; Task Greedy = 0.048s; Random = 0.033s;            \n",
      "\n"
     ]
    }
   ],
   "source": [
    "testIMDBDatasets()"
   ]
  },
  {
   "cell_type": "code",
   "execution_count": null,
   "metadata": {},
   "outputs": [],
   "source": []
  },
  {
   "cell_type": "markdown",
   "metadata": {},
   "source": [
    "#### Bibsonomy Datasets"
   ]
  },
  {
   "cell_type": "code",
   "execution_count": 4,
   "metadata": {},
   "outputs": [],
   "source": [
    "#Import Bibsonomy datasets\n",
    "def importBibsonomyData(experts_filename, tasks_filename):\n",
    "    with open(experts_filename, 'r') as f:\n",
    "        expert_skills_list = json.loads(f.read())\n",
    "    \n",
    "    with open(tasks_filename, 'r') as f:\n",
    "        task_skills_list = json.loads(f.read())\n",
    "\n",
    "    print(\"Imported Bibsonomy dataset. Num Experts={}, Num Tasks={}\".format(len(expert_skills_list),len(task_skills_list)))\n",
    "\n",
    "    return task_skills_list, expert_skills_list\n",
    "\n",
    "#Run algorithm on Bibsonomy datasets\n",
    "def testBibsonomyDatasets():\n",
    "    imdb_data_path = 'datasets/bibsonomy/'\n",
    "    movieYears = [2010, 2015, 2020]\n",
    "\n",
    "    runTimeStamp = str(time.strftime(\"%m-%d-%H:%M:%S\", time.localtime(time.time())))\n",
    "    bibs_outfilename = \"experiments/bibsonomy_\" + runTimeStamp + \".txt\"\n",
    "    outfile_bibsonomy = open(bibs_outfilename, \"a\")\n",
    "    outfile_bibsonomy.write(\"Bibsonomy dataset Team-Formation Algorithms: {}\\n\".format(runTimeStamp))\n",
    "\n",
    "    for y in movieYears:\n",
    "        experts_file = imdb_data_path + 'bibsonomy_experts_' + str(y) + '.txt'\n",
    "        tasks_file = imdb_data_path + 'bibsonomy_tasks_' + str(y) + '.txt'\n",
    "        print(\"\\nBibsonomy Dataset: {}, {}\".format('bibsonomy_experts_' + str(y), 'bibsonomy_tasks_' + str(y)))\n",
    "\n",
    "        bib_tasks, bib_experts = importBibsonomyData(experts_file, tasks_file)\n",
    "        BibsonomyTest = TFP.TeamFormationProblem(bib_tasks[0:100], bib_experts[0:200])\n",
    "\n",
    "        rt_dict = BibsonomyTest.computeTaskAssigment(baselines=['random', 'no_update_greedy', 'task_greedy'], plot_flag=False)\n",
    "\n",
    "        #Write output to file\n",
    "        runInfo = \"\\nBibsonomy paperYear = {}, Experts = {}, Tasks = {}\".format(str(y), str(BibsonomyTest.n), str(BibsonomyTest.m))\n",
    "        outfile_bibsonomy.write(runInfo)\n",
    "\n",
    "        runtimeInfo = \"\\nAlgorithm Runtimes: Total = {:.3f}s; Lazy Greedy = {:.3f}s; No-Update-Greedy = {:.3f}s; Task Greedy = {:.3f}s; Random = {:.3f}s;\\\n",
    "            \\n\".format(rt_dict['total'], rt_dict['lazyGreedy'], rt_dict['noUpdateGreedy'], rt_dict['taskGreedy'], rt_dict['random'])\n",
    "        outfile_bibsonomy.write(runtimeInfo)\n",
    "\n",
    "    outfile_bibsonomy.close()\n",
    "    \n",
    "    return None\n"
   ]
  },
  {
   "cell_type": "code",
   "execution_count": 5,
   "metadata": {},
   "outputs": [
    {
     "name": "stderr",
     "output_type": "stream",
     "text": [
      "2022-04-10 23:23:09,634 |INFO: ------------Team Formation Problem initialized with 100 tasks and 200 experts---------\n",
      "2022-04-10 23:23:09,688 |INFO: Pre-Computed Lambda value = 0.38434837488166623\n",
      "2022-04-10 23:23:09,688 |INFO: --------------------------Computing Greedy Task Assignment (Lazy Eval)------------------------------------\n",
      "2022-04-10 23:23:09,735 |INFO: Computed Greedy Task Assignment (Lazy Eval) for T_i=1, F_i=17.658\n",
      "2022-04-10 23:23:09,741 |INFO: Computed Baseline Random Task Assignment for T_i=1, F_i = 2.826\n",
      "2022-04-10 23:23:09,781 |INFO: Computed Baseline No-Update Greedy Task Assignment for T_i=1, F_i = 9.621\n",
      "2022-04-10 23:23:09,831 |INFO: Computed Greedy Task Assignment (Lazy Eval) for T_i=2, F_i=20.343\n"
     ]
    },
    {
     "name": "stdout",
     "output_type": "stream",
     "text": [
      "\n",
      "Bibsonomy Dataset: bibsonomy_experts_2010, bibsonomy_tasks_2010\n",
      "Imported Bibsonomy dataset. Num Experts=3044, Num Tasks=21981\n"
     ]
    },
    {
     "name": "stderr",
     "output_type": "stream",
     "text": [
      "2022-04-10 23:23:09,843 |INFO: Computed Baseline Random Task Assignment for T_i=2, F_i = 4.946\n",
      "2022-04-10 23:23:09,922 |INFO: Computed Baseline No-Update Greedy Task Assignment for T_i=2, F_i = 11.817\n",
      "2022-04-10 23:23:09,973 |INFO: Computed Greedy Task Assignment (Lazy Eval) for T_i=3, F_i=20.734\n",
      "2022-04-10 23:23:09,993 |INFO: Computed Baseline Random Task Assignment for T_i=3, F_i = 6.078\n",
      "2022-04-10 23:23:10,077 |INFO: Computed Baseline No-Update Greedy Task Assignment for T_i=3, F_i = 13.224\n",
      "2022-04-10 23:23:10,125 |INFO: Computed Greedy Task Assignment (Lazy Eval) for T_i=4, F_i=20.365\n",
      "2022-04-10 23:23:10,153 |INFO: Computed Baseline Random Task Assignment for T_i=4, F_i = 5.677\n",
      "2022-04-10 23:23:10,250 |INFO: Computed Baseline No-Update Greedy Task Assignment for T_i=4, F_i = 13.896\n",
      "2022-04-10 23:23:10,251 |INFO: Baseline Task Greedy Task Assignment\n",
      "2022-04-10 23:23:10,451 |INFO: Baseline Task Greedy F_i = 1.000\n",
      "2022-04-10 23:23:10,452 |INFO: Best Task Assignment is for max workload threshold: 3, F_i(max)=20.734 \n",
      "\n",
      "2022-04-10 23:23:10,452 |INFO: \n",
      "Algorithm Runtimes: Total = 0.817s; Lazy Greedy = 0.197s; No-Update-Greedy = 0.300s; Task Greedy = 0.201s; Random = 0.065s;            \n",
      "\n",
      "2022-04-10 23:23:10,512 |INFO: ------------Team Formation Problem initialized with 100 tasks and 200 experts---------\n",
      "2022-04-10 23:23:10,557 |INFO: Pre-Computed Lambda value = 0.16616911844045604\n",
      "2022-04-10 23:23:10,558 |INFO: --------------------------Computing Greedy Task Assignment (Lazy Eval)------------------------------------\n",
      "2022-04-10 23:23:10,598 |INFO: Computed Greedy Task Assignment (Lazy Eval) for T_i=1, F_i=7.494\n",
      "2022-04-10 23:23:10,604 |INFO: Computed Baseline Random Task Assignment for T_i=1, F_i = 0.175\n",
      "2022-04-10 23:23:10,641 |INFO: Computed Baseline No-Update Greedy Task Assignment for T_i=1, F_i = 4.112\n",
      "2022-04-10 23:23:10,685 |INFO: Computed Greedy Task Assignment (Lazy Eval) for T_i=2, F_i=7.940\n"
     ]
    },
    {
     "name": "stdout",
     "output_type": "stream",
     "text": [
      "\n",
      "Bibsonomy Dataset: bibsonomy_experts_2015, bibsonomy_tasks_2015\n",
      "Imported Bibsonomy dataset. Num Experts=1904, Num Tasks=9061\n"
     ]
    },
    {
     "name": "stderr",
     "output_type": "stream",
     "text": [
      "2022-04-10 23:23:10,697 |INFO: Computed Baseline Random Task Assignment for T_i=2, F_i = -0.106\n",
      "2022-04-10 23:23:10,771 |INFO: Computed Baseline No-Update Greedy Task Assignment for T_i=2, F_i = 4.696\n",
      "2022-04-10 23:23:10,815 |INFO: Computed Greedy Task Assignment (Lazy Eval) for T_i=3, F_i=7.447\n",
      "2022-04-10 23:23:10,834 |INFO: Computed Baseline Random Task Assignment for T_i=3, F_i = -0.574\n",
      "2022-04-10 23:23:10,913 |INFO: Computed Baseline No-Update Greedy Task Assignment for T_i=3, F_i = 5.302\n",
      "2022-04-10 23:23:10,913 |INFO: Baseline Task Greedy Task Assignment\n",
      "2022-04-10 23:23:11,094 |INFO: Baseline Task Greedy F_i = 0.000\n",
      "2022-04-10 23:23:11,095 |INFO: Best Task Assignment is for max workload threshold: 2, F_i(max)=7.940 \n",
      "\n",
      "2022-04-10 23:23:11,095 |INFO: \n",
      "Algorithm Runtimes: Total = 0.582s; Lazy Greedy = 0.131s; No-Update-Greedy = 0.190s; Task Greedy = 0.182s; Random = 0.035s;            \n",
      "\n",
      "2022-04-10 23:23:11,097 |INFO: ------------Team Formation Problem initialized with 100 tasks and 177 experts---------\n",
      "2022-04-10 23:23:11,127 |INFO: Pre-Computed Lambda value = 0.2572163475278651\n",
      "2022-04-10 23:23:11,128 |INFO: --------------------------Computing Greedy Task Assignment (Lazy Eval)------------------------------------\n",
      "2022-04-10 23:23:11,155 |INFO: Computed Greedy Task Assignment (Lazy Eval) for T_i=1, F_i=8.303\n",
      "2022-04-10 23:23:11,160 |INFO: Computed Baseline Random Task Assignment for T_i=1, F_i = -0.233\n",
      "2022-04-10 23:23:11,221 |INFO: Computed Baseline No-Update Greedy Task Assignment for T_i=1, F_i = 4.920\n",
      "2022-04-10 23:23:11,249 |INFO: Computed Greedy Task Assignment (Lazy Eval) for T_i=2, F_i=8.619\n",
      "2022-04-10 23:23:11,257 |INFO: Computed Baseline Random Task Assignment for T_i=2, F_i = 0.075\n"
     ]
    },
    {
     "name": "stdout",
     "output_type": "stream",
     "text": [
      "\n",
      "Bibsonomy Dataset: bibsonomy_experts_2020, bibsonomy_tasks_2020\n",
      "Imported Bibsonomy dataset. Num Experts=177, Num Tasks=834\n"
     ]
    },
    {
     "name": "stderr",
     "output_type": "stream",
     "text": [
      "2022-04-10 23:23:11,325 |INFO: Computed Baseline No-Update Greedy Task Assignment for T_i=2, F_i = 6.591\n",
      "2022-04-10 23:23:11,353 |INFO: Computed Greedy Task Assignment (Lazy Eval) for T_i=3, F_i=8.733\n",
      "2022-04-10 23:23:11,367 |INFO: Computed Baseline Random Task Assignment for T_i=3, F_i = -0.947\n",
      "2022-04-10 23:23:11,438 |INFO: Computed Baseline No-Update Greedy Task Assignment for T_i=3, F_i = 6.886\n",
      "2022-04-10 23:23:11,465 |INFO: Computed Greedy Task Assignment (Lazy Eval) for T_i=4, F_i=8.848\n",
      "2022-04-10 23:23:11,484 |INFO: Computed Baseline Random Task Assignment for T_i=4, F_i = -1.835\n",
      "2022-04-10 23:23:11,559 |INFO: Computed Baseline No-Update Greedy Task Assignment for T_i=4, F_i = 6.816\n",
      "2022-04-10 23:23:11,587 |INFO: Computed Greedy Task Assignment (Lazy Eval) for T_i=5, F_i=8.615\n",
      "2022-04-10 23:23:11,611 |INFO: Computed Baseline Random Task Assignment for T_i=5, F_i = -2.882\n",
      "2022-04-10 23:23:11,694 |INFO: Computed Baseline No-Update Greedy Task Assignment for T_i=5, F_i = 6.682\n",
      "2022-04-10 23:23:11,694 |INFO: Baseline Task Greedy Task Assignment\n",
      "2022-04-10 23:23:11,787 |INFO: Baseline Task Greedy F_i = -0.000\n",
      "2022-04-10 23:23:11,788 |INFO: Best Task Assignment is for max workload threshold: 4, F_i(max)=8.848 \n",
      "\n",
      "2022-04-10 23:23:11,788 |INFO: \n",
      "Algorithm Runtimes: Total = 0.690s; Lazy Greedy = 0.139s; No-Update-Greedy = 0.357s; Task Greedy = 0.093s; Random = 0.070s;            \n",
      "\n"
     ]
    }
   ],
   "source": [
    "testBibsonomyDatasets()"
   ]
  },
  {
   "cell_type": "code",
   "execution_count": null,
   "metadata": {},
   "outputs": [],
   "source": []
  },
  {
   "cell_type": "code",
   "execution_count": null,
   "metadata": {},
   "outputs": [],
   "source": [
    "# max_threshold_arr = [5,10,40,80,100,150,200]\n",
    "# rev_rt_arr, reg_rt_arr = [],[]\n",
    "# for thresh in max_threshold_arr:\n",
    "#     FreelancerTest = TFP.TeamFormationProblem(t[0:200], e[0:200], max_workload_threshold=thresh)\n",
    "#     rev_rt, reg_rt = FreelancerTest.compare_Methods()\n",
    "#     rev_rt_arr.append(rev_rt)\n",
    "#     reg_rt_arr.append(reg_rt)\n",
    "\n",
    "#Plot Runtimes\n",
    "# plt.figure(figsize=(9,6))\n",
    "# plt.plot(max_threshold_arr, rev_rt_arr, label='Reverse Threshold Runtime')\n",
    "# plt.plot(max_threshold_arr, reg_rt_arr, label='Regular Lazy Runtime')\n",
    "\n",
    "# title_text = 'Reverse Threshold vs. Regular Lazy runtimes'\n",
    "# plt.title(title_text, fontsize=11)\n",
    "# plt.xlabel('Max Threshold, T_i')\n",
    "# plt.ylabel('Runtime, s')\n",
    "# plt.legend(loc='lower right')\n",
    "# plt.show()\n",
    "\n",
    "#FreelancerTest.compute_reverseThreshold()\n",
    "#FreelancerTest.compareTest_Lazy_Stochastic_Assignments()"
   ]
  }
 ],
 "metadata": {
  "interpreter": {
   "hash": "916dbcbb3f70747c44a77c7bcd40155683ae19c65e1c03b4aa3499c5328201f1"
  },
  "kernelspec": {
   "display_name": "Python 3.8.10 64-bit",
   "language": "python",
   "name": "python3"
  },
  "language_info": {
   "codemirror_mode": {
    "name": "ipython",
    "version": 3
   },
   "file_extension": ".py",
   "mimetype": "text/x-python",
   "name": "python",
   "nbconvert_exporter": "python",
   "pygments_lexer": "ipython3",
   "version": "3.9.7"
  },
  "orig_nbformat": 4
 },
 "nbformat": 4,
 "nbformat_minor": 2
}
