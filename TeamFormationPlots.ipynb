{
 "cells": [
  {
   "cell_type": "code",
   "execution_count": null,
   "metadata": {},
   "outputs": [],
   "source": [
    "## Test Team Formation framework plots for paper\n",
    "## Balancing Task Coverage vs. Maximum Expert Load\n",
    "## Karan Vombatkere, Spring 2022\n",
    "\n",
    "#Imports\n",
    "import numpy as np\n",
    "import matplotlib.pyplot as plt\n",
    "#import json, time\n",
    "#import TeamFormationProblem as TFP"
   ]
  },
  {
   "cell_type": "code",
   "execution_count": null,
   "metadata": {},
   "outputs": [],
   "source": [
    "#Use this specs dictionary to define plot spec for bar plot\n",
    "barPlotSpecs = {'datasetNames':[], 'thresholdGreedy':[], 'taskGreedy':[], 'noUpdateGreedy':[], 'smartRandom':[],\n",
    "    'xlab':'', 'ylab':'' , 'plotTitle':'', 'axisFontize':'', 'titleFontsize':''}\n",
    "\n",
    "barPlotSpecs"
   ]
  },
  {
   "cell_type": "code",
   "execution_count": null,
   "metadata": {},
   "outputs": [],
   "source": [
    "#Create bar plots for paper as defined \n",
    "def barPlots(specDict, showTitle=False):\n",
    "\n",
    "    plt.figure(figsize=specDict['plotSize'])\n",
    "    barWidth = 0.2\n",
    "\n",
    "    #Specify X-axis\n",
    "    X_axis = np.arange(len(specDict['datasetNames']))\n",
    "    plt.bar(X_axis - 0.3, specDict['ThresholdGreedy'], barWidth, label='ThresholdGreedy', color=specDict['barColors'][0])\n",
    "    plt.bar(X_axis - 0.1, specDict['TaskGreedy'], barWidth, label='TaskGreedy', color=specDict['barColors'][1])\n",
    "    plt.bar(X_axis + 0.1, specDict['NoUpdateGreedy'], barWidth, label='NoUpdateGreedy', color=specDict['barColors'][2])\n",
    "    plt.bar(X_axis + 0.3, specDict['SmartRandom'], barWidth, label='SmartRandom', color=specDict['barColors'][3])\n",
    "\n",
    "    if showTitle:\n",
    "        title_text = specDict['plotTitle']\n",
    "        plt.title(title_text, fontsize=specDict['titleFontSize'])\n",
    "\n",
    "\n",
    "    plt.xticks(X_axis, specDict['datasetNames'])\n",
    "    plt.xlabel(specDict['xlab'], fontsize=specDict['axisFontSize'])\n",
    "    plt.ylabel(specDict['ylab'], fontsize=specDict['axisFontSize'])    \n",
    "    plt.legend(loc=specDict['legendLoc'])\n",
    "    plt.show()\n",
    "    \n",
    "    return None"
   ]
  },
  {
   "cell_type": "code",
   "execution_count": null,
   "metadata": {},
   "outputs": [],
   "source": [
    "#Specify dictionary for plotting for IMDB Dataset\n",
    "barPlotSpecs_IMDB_F= {'datasetNames':['IMDB-2015', 'IMDB-2018', 'IMDB-2020'], 'plotSize': (8,5), \n",
    "                    'barColors':['teal', 'steelblue', 'slateblue', 'mediumpurple'],\n",
    "                    'ThresholdGreedy':[3927, 3255, 1516], 'TaskGreedy':[3291, 2834, 1359], 'NoUpdateGreedy':[1300, 520, 319], 'SmartRandom':[3738,3167,1249],\n",
    "                    'xlab':'Dataset', 'ylab':'Objective, F' , 'plotTitle':'', 'axisFontSize':12, 'titleFontSize':14, 'legendLoc': 'upper right'}\n",
    "\n",
    "\n",
    "barPlotSpecs_IMDB_L= {'datasetNames':['IMDB-2015', 'IMDB-2018', 'IMDB-2020'], 'plotSize': (8,5), \n",
    "                    'barColors':['teal', 'steelblue', 'slateblue', 'mediumpurple'],\n",
    "                    'ThresholdGreedy':[27, 10, 8], 'TaskGreedy':[132, 408, 613], 'NoUpdateGreedy':[60, 32, 24], 'SmartRandom':[48,62,33],\n",
    "                    'xlab':'Dataset', 'ylab':'Max Workload' , 'plotTitle':'', 'axisFontSize':12, 'titleFontSize':14, 'legendLoc': 'upper left'}\n",
    "\n",
    "                                  "
   ]
  },
  {
   "cell_type": "code",
   "execution_count": null,
   "metadata": {},
   "outputs": [],
   "source": [
    "barPlots(barPlotSpecs_IMDB_F)"
   ]
  },
  {
   "cell_type": "code",
   "execution_count": null,
   "metadata": {},
   "outputs": [],
   "source": [
    "barPlots(barPlotSpecs_IMDB_L)"
   ]
  },
  {
   "cell_type": "code",
   "execution_count": null,
   "metadata": {},
   "outputs": [],
   "source": [
    "#Specify dictionary for plotting for Bibsonomy Dataset\n",
    "barPlotSpecs_Bibs_F= {'datasetNames':['Bibsonomy-2010', 'Bibsonomy-2015', 'Bibsonomy-2020'], 'plotSize': (8,5), \n",
    "                    'barColors':['teal', 'steelblue', 'slateblue', 'mediumpurple'],\n",
    "                    'ThresholdGreedy':[1020, 458, 56.4], 'TaskGreedy':[575, 114, 13], 'NoUpdateGreedy':[693, 322, 44], 'SmartRandom':[216,37,0],\n",
    "                    'xlab':'Dataset', 'ylab':'Objective, F' , 'plotTitle':'', 'axisFontSize':12, 'titleFontSize':14, 'legendLoc': 'upper right'}\n",
    "\n",
    "\n",
    "barPlotSpecs_Bibs_L= {'datasetNames':['Bibsonomy-2010', 'Bibsonomy-2015', 'Bibsonomy-2020'], 'plotSize': (8,5), \n",
    "                    'barColors':['teal', 'steelblue', 'slateblue', 'mediumpurple'],\n",
    "                    'ThresholdGreedy':[40, 30, 17], 'TaskGreedy':[197, 225, 46], 'NoUpdateGreedy':[100, 67, 24], 'SmartRandom':[39,13,0],\n",
    "                    'xlab':'Dataset', 'ylab':'Max Workload' , 'plotTitle':'', 'axisFontSize':12, 'titleFontSize':14, 'legendLoc': 'upper right'}\n"
   ]
  },
  {
   "cell_type": "code",
   "execution_count": null,
   "metadata": {},
   "outputs": [],
   "source": [
    "barPlots(barPlotSpecs_Bibs_F)"
   ]
  },
  {
   "cell_type": "code",
   "execution_count": null,
   "metadata": {},
   "outputs": [],
   "source": [
    "barPlots(barPlotSpecs_Bibs_L)"
   ]
  },
  {
   "cell_type": "code",
   "execution_count": null,
   "metadata": {},
   "outputs": [],
   "source": []
  }
 ],
 "metadata": {
  "interpreter": {
   "hash": "40d3a090f54c6569ab1632332b64b2c03c39dcf918b08424e98f38b5ae0af88f"
  },
  "kernelspec": {
   "display_name": "Python 3.9.7 ('base')",
   "language": "python",
   "name": "python3"
  },
  "language_info": {
   "codemirror_mode": {
    "name": "ipython",
    "version": 3
   },
   "file_extension": ".py",
   "mimetype": "text/x-python",
   "name": "python",
   "nbconvert_exporter": "python",
   "pygments_lexer": "ipython3",
   "version": "3.9.7"
  },
  "orig_nbformat": 4
 },
 "nbformat": 4,
 "nbformat_minor": 2
}
