{
 "cells": [
  {
   "cell_type": "code",
   "execution_count": 3,
   "metadata": {},
   "outputs": [],
   "source": [
    "## Test Team Formation framework with Freelancer Data\n",
    "## Balancing Task Coverage vs. Maximum Expert Load\n",
    "## Karan Vombatkere, Dec 2021\n",
    "\n",
    "#Imports\n",
    "import pandas as pd\n",
    "import TeamFormationProblem as TFP"
   ]
  },
  {
   "cell_type": "code",
   "execution_count": 4,
   "metadata": {},
   "outputs": [],
   "source": [
    "#Preliminary Testing\n",
    "task_list = [['s1', 's2', 's4', 's5'], ['s3', 's2'], ['s1', 's3', 's5'], ['s2', 's4'],['s1', 's4', 's5'], ['s3'], ['s1', 's5'], ['s2', 's4']]\n",
    "expert_list = [['s2', 's3'], ['s2', 's4'], ['s3'], ['s5', 's4']]"
   ]
  },
  {
   "cell_type": "code",
   "execution_count": 5,
   "metadata": {},
   "outputs": [
    {
     "name": "stderr",
     "output_type": "stream",
     "text": [
      "2022-01-06 14:30:58,195 |INFO: Team Formation Problem initialized with 8 tasks and 4 experts\n"
     ]
    }
   ],
   "source": [
    "teamFormationTest = TFP.TeamFormationProblem(task_list, expert_list)\n",
    "#teamFormationTest.computeTaskAssigment(lazy_eval=True)\n",
    "#teamFormationTest.computeTaskAssigment(lazy_eval=False)"
   ]
  },
  {
   "cell_type": "code",
   "execution_count": 6,
   "metadata": {},
   "outputs": [
    {
     "name": "stderr",
     "output_type": "stream",
     "text": [
      "2022-01-06 14:30:59,301 |INFO: ----------Computing Greedy Task Assignment, for max load, T_i=1 ---------------\n",
      "2022-01-06 14:30:59,305 |INFO: Lazy F_i = 2.667\n",
      "2022-01-06 14:30:59,307 |INFO: Regular Greedy F_i = 2.667\n",
      "2022-01-06 14:30:59,309 |INFO: ============================================================================================\n",
      "2022-01-06 14:30:59,311 |INFO: ----------Computing Greedy Task Assignment, for max load, T_i=2 ---------------\n",
      "2022-01-06 14:30:59,312 |INFO: Lazy F_i = 3.500\n",
      "2022-01-06 14:30:59,315 |INFO: Regular Greedy F_i = 3.500\n",
      "2022-01-06 14:30:59,317 |INFO: ============================================================================================\n",
      "2022-01-06 14:30:59,318 |INFO: \n",
      "All 2 Assignment Matrices Equal; All 2 Objectives Equal\n",
      "2022-01-06 14:30:59,319 |INFO: \n",
      "Total Regular Greedy runtime = 0.002 seconds\n",
      "2022-01-06 14:30:59,321 |INFO: \n",
      "Total Lazy Evaluation runtime = 0.003 seconds\n",
      "2022-01-06 14:30:59,322 |INFO: \n",
      "Lazy Evaluation runtime improvement = 0.5x\n"
     ]
    }
   ],
   "source": [
    "teamFormationTest.compareTest_Lazy_Regular_Assignments()"
   ]
  },
  {
   "cell_type": "code",
   "execution_count": null,
   "metadata": {},
   "outputs": [],
   "source": [
    "#Import Freelancer data\n",
    "#Freelancer from DropBox link: https://www.dropbox.com/sh/8zpsi1etvvvvj5k/AAD-J9ZQmSsbnSmEILBMD9uxa/datasets/real?dl=0&subfolder_nav_tracking=1\n",
    "#freelance_experts.csv and freelance_projects.csv\n",
    "\n",
    "def extract_skills(row):\n",
    "    skills = []\n",
    "    for i,val in enumerate(row):\n",
    "        if val == 1:\n",
    "            skills+=str(i)\n",
    "    return skills            \n",
    "\n",
    "    \n",
    "def importFreelancerData(experts_filename='../Datasets/freelance_experts.csv', tasks_filename='../Datasets/freelance_projects.csv'):\n",
    "    #Extract tasks skills as list\n",
    "    freelance_tasks_df = pd.read_csv(tasks_filename, header=None)\n",
    "    freelance_tasks_df['Task_Skills'] = freelance_tasks_df.apply(lambda row: extract_skills(row), axis=1)\n",
    "    task_skills_list = freelance_tasks_df.Task_Skills.to_list()\n",
    "    \n",
    "    #Extract experts skills as list\n",
    "    freelance_experts_df = pd.read_csv(experts_filename, header=None)\n",
    "    freelance_experts_df['Expert_Skills'] = freelance_experts_df.apply(lambda row: extract_skills(row), axis=1)\n",
    "    expert_skills_list = freelance_experts_df.Expert_Skills.to_list()\n",
    "\n",
    "    return task_skills_list, expert_skills_list\n",
    "    "
   ]
  },
  {
   "cell_type": "code",
   "execution_count": null,
   "metadata": {},
   "outputs": [],
   "source": [
    "t,e = importFreelancerData()\n",
    "FreelancerTest = TFP.TeamFormationProblem(t[0:100], e[0:100], max_workload_threshold=75)"
   ]
  },
  {
   "cell_type": "code",
   "execution_count": null,
   "metadata": {},
   "outputs": [],
   "source": [
    "FreelancerTest.compareTest_Lazy_Regular_Assignments()"
   ]
  },
  {
   "cell_type": "code",
   "execution_count": null,
   "metadata": {},
   "outputs": [],
   "source": [
    "FreelancerTest.computeTaskAssigment(lazy_eval=True)"
   ]
  },
  {
   "cell_type": "code",
   "execution_count": null,
   "metadata": {},
   "outputs": [],
   "source": []
  }
 ],
 "metadata": {
  "interpreter": {
   "hash": "916dbcbb3f70747c44a77c7bcd40155683ae19c65e1c03b4aa3499c5328201f1"
  },
  "kernelspec": {
   "display_name": "Python 3.8.10 64-bit",
   "language": "python",
   "name": "python3"
  },
  "language_info": {
   "codemirror_mode": {
    "name": "ipython",
    "version": 3
   },
   "file_extension": ".py",
   "mimetype": "text/x-python",
   "name": "python",
   "nbconvert_exporter": "python",
   "pygments_lexer": "ipython3",
   "version": "3.8.10"
  },
  "orig_nbformat": 4
 },
 "nbformat": 4,
 "nbformat_minor": 2
}
