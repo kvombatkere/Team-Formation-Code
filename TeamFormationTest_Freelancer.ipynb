{
 "cells": [
  {
   "cell_type": "code",
   "execution_count": 1,
   "metadata": {},
   "outputs": [],
   "source": [
    "## Test Team Formation framework with Freelancer Data\n",
    "## Balancing Task Coverage vs. Maximum Expert Load\n",
    "## Karan Vombatkere, Dec 2021\n",
    "\n",
    "import numpy as np\n",
    "import pandas as pd\n",
    "import time\n",
    "\n",
    "#Set logging level\n",
    "import TeamFormationProblem as TFP"
   ]
  },
  {
   "cell_type": "code",
   "execution_count": 2,
   "metadata": {},
   "outputs": [],
   "source": [
    "#Preliminary Testing\n",
    "task_list = [['s1', 's2', 's4', 's5'], ['s3', 's2'], ['s1', 's3', 's5'], ['s2', 's4'],['s1', 's4', 's5'], ['s3'], ['s1', 's5'], ['s2', 's4']]\n",
    "expert_list = [['s2', 's3'], ['s2', 's4'], ['s3'], ['s5', 's4']]"
   ]
  },
  {
   "cell_type": "code",
   "execution_count": 3,
   "metadata": {},
   "outputs": [
    {
     "name": "stderr",
     "output_type": "stream",
     "text": [
      "2021-12-20 16:45:27,020 |INFO: Team Formation Problem initialized with 8 tasks and 4 experts\n",
      "2021-12-20 16:45:27,022 |INFO: --------------------------------------------------------------------------------------------------\n",
      "2021-12-20 16:45:27,022 |INFO: Computing Greedy Task Assignment for threshold max load, T_i=1\n",
      "2021-12-20 16:45:27,023 |INFO: Expert Index List: [0, 1, 2, 3]\n",
      "2021-12-20 16:45:27,025 |INFO: Greedy Task Assignment = \n",
      "[[0 1 0 0 0 0 0 0]\n",
      " [0 0 0 1 0 0 0 0]\n",
      " [0 0 0 0 0 1 0 0]\n",
      " [0 0 0 0 1 0 0 0]]\n",
      "2021-12-20 16:45:27,026 |INFO: F_i = 2.667\n",
      "2021-12-20 16:45:27,026 |INFO: --------------------------------------------------------------------------------------------------\n",
      "2021-12-20 16:45:27,027 |INFO: Computing Greedy Task Assignment for threshold max load, T_i=2\n",
      "2021-12-20 16:45:27,028 |INFO: Expert Index List: [0, 1, 2, 3, 0, 1, 2, 3]\n",
      "2021-12-20 16:45:27,031 |INFO: Greedy Task Assignment = \n",
      "[[0 1 1 0 0 0 0 0]\n",
      " [0 0 0 1 0 0 0 1]\n",
      " [0 0 0 0 0 1 0 0]\n",
      " [1 0 0 0 1 0 0 0]]\n",
      "2021-12-20 16:45:27,035 |INFO: F_i = 3.500\n",
      "2021-12-20 16:45:27,037 |INFO: --------------------------------------------------------------------------------------------------\n",
      "2021-12-20 16:45:27,038 |INFO: Computing Greedy Task Assignment for threshold max load, T_i=3\n",
      "2021-12-20 16:45:27,039 |INFO: Expert Index List: [0, 1, 2, 3, 0, 1, 2, 3, 0, 1, 2, 3]\n",
      "2021-12-20 16:45:27,047 |INFO: Greedy Task Assignment = \n",
      "[[1 1 1 0 0 0 0 0]\n",
      " [0 0 0 1 0 0 0 1]\n",
      " [0 0 0 0 0 1 0 0]\n",
      " [1 0 0 0 1 0 1 0]]\n",
      "2021-12-20 16:45:27,048 |INFO: F_i = 3.250\n",
      "2021-12-20 16:45:27,050 |INFO: Best Task Assignment is for max workload threshold: 2, F_i(max)=3.500 \n",
      "[[0 1 1 0 0 0 0 0]\n",
      " [0 0 0 1 0 0 0 1]\n",
      " [0 0 0 0 0 1 0 0]\n",
      " [1 0 0 0 1 0 0 0]]\n",
      "2021-12-20 16:45:27,053 |INFO: \n",
      "Total Computation time = 0.031 seconds\n"
     ]
    }
   ],
   "source": [
    "teamFormationTest = TFP.TeamFormationProblem(task_list, expert_list)\n",
    "teamFormationTest.computeTaskAssigment()"
   ]
  },
  {
   "cell_type": "code",
   "execution_count": null,
   "metadata": {},
   "outputs": [],
   "source": []
  },
  {
   "cell_type": "code",
   "execution_count": 4,
   "metadata": {},
   "outputs": [],
   "source": [
    "#Import Freelancer data\n",
    "#Freelancer from DropBox link: https://www.dropbox.com/sh/8zpsi1etvvvvj5k/AAD-J9ZQmSsbnSmEILBMD9uxa/datasets/real?dl=0&subfolder_nav_tracking=1\n",
    "#freelance_experts.csv and freelance_projects.csv\n",
    "\n",
    "def extract_skills(row):\n",
    "    skills = []\n",
    "    for i,val in enumerate(row):\n",
    "        if val == 1:\n",
    "            skills+=str(i)\n",
    "    return skills            \n",
    "\n",
    "    \n",
    "def importFreelancerData(experts_filename='../Datasets/freelance_experts.csv', tasks_filename='../Datasets/freelance_projects.csv'):\n",
    "    #Extract tasks skills as list\n",
    "    freelance_tasks_df = pd.read_csv(tasks_filename, header=None)\n",
    "    freelance_tasks_df['Task_Skills'] = freelance_tasks_df.apply(lambda row: extract_skills(row), axis=1)\n",
    "    task_skills_list = freelance_tasks_df.Task_Skills.to_list()\n",
    "    \n",
    "    #Extract experts skills as list\n",
    "    freelance_experts_df = pd.read_csv(experts_filename, header=None)\n",
    "    freelance_experts_df['Expert_Skills'] = freelance_experts_df.apply(lambda row: extract_skills(row), axis=1)\n",
    "    expert_skills_list = freelance_experts_df.Expert_Skills.to_list()\n",
    "\n",
    "    return task_skills_list, expert_skills_list\n",
    "    "
   ]
  },
  {
   "cell_type": "code",
   "execution_count": 5,
   "metadata": {},
   "outputs": [],
   "source": [
    "t,e = importFreelancerData()"
   ]
  },
  {
   "cell_type": "code",
   "execution_count": 6,
   "metadata": {},
   "outputs": [
    {
     "name": "stderr",
     "output_type": "stream",
     "text": [
      "2021-12-20 16:45:27,333 |INFO: Team Formation Problem initialized with 50 tasks and 60 experts\n"
     ]
    }
   ],
   "source": [
    "FreelancerTest = TFP.TeamFormationProblem(t[0:50], e[0:60], max_workload_threshold=1)"
   ]
  },
  {
   "cell_type": "code",
   "execution_count": 7,
   "metadata": {},
   "outputs": [
    {
     "name": "stderr",
     "output_type": "stream",
     "text": [
      "2021-12-20 16:45:27,414 |INFO: --------------------------------------------------------------------------------------------------\n",
      "2021-12-20 16:45:27,418 |INFO: Computing Greedy Task Assignment for threshold max load, T_i=1\n",
      "2021-12-20 16:45:27,418 |INFO: Expert Index List: [0, 1, 2, 3, 4, 5, 6, 7, 8, 9, 10, 11, 12, 13, 14, 15, 16, 17, 18, 19, 20, 21, 22, 23, 24, 25, 26, 27, 28, 29, 30, 31, 32, 33, 34, 35, 36, 37, 38, 39, 40, 41, 42, 43, 44, 45, 46, 47, 48, 49, 50, 51, 52, 53, 54, 55, 56, 57, 58, 59]\n",
      "2021-12-20 16:45:32,284 |INFO: Greedy Task Assignment = \n",
      "[[0 0 0 ... 0 0 0]\n",
      " [0 0 0 ... 0 0 0]\n",
      " [0 0 0 ... 0 0 0]\n",
      " ...\n",
      " [0 0 0 ... 0 0 0]\n",
      " [0 0 0 ... 0 0 0]\n",
      " [0 0 0 ... 0 0 0]]\n",
      "2021-12-20 16:45:32,289 |INFO: F_i = 34.190\n",
      "2021-12-20 16:45:32,290 |INFO: Best Task Assignment is for max workload threshold: 1, F_i(max)=34.190 \n",
      "[[0 0 0 ... 0 0 0]\n",
      " [0 0 0 ... 0 0 0]\n",
      " [0 0 0 ... 0 0 0]\n",
      " ...\n",
      " [0 0 0 ... 0 0 0]\n",
      " [0 0 0 ... 0 0 0]\n",
      " [0 0 0 ... 0 0 0]]\n",
      "2021-12-20 16:45:32,290 |INFO: \n",
      "Total Computation time = 4.876 seconds\n"
     ]
    }
   ],
   "source": [
    "FreelancerTest.computeTaskAssigment()"
   ]
  },
  {
   "cell_type": "code",
   "execution_count": 8,
   "metadata": {},
   "outputs": [
    {
     "name": "stdout",
     "output_type": "stream",
     "text": [
      "Experts Assigned to Task 0: [47]\n",
      "Experts Assigned to Task 1: [32]\n",
      "Experts Assigned to Task 2: [12]\n",
      "Experts Assigned to Task 3: [6]\n",
      "Experts Assigned to Task 4: [41]\n",
      "Experts Assigned to Task 5: [31, 57]\n",
      "Experts Assigned to Task 6: [28]\n",
      "Experts Assigned to Task 7: [37, 44]\n",
      "Experts Assigned to Task 8: [26]\n",
      "Experts Assigned to Task 9: [14, 52]\n",
      "Experts Assigned to Task 10: [56]\n",
      "Experts Assigned to Task 11: [53]\n",
      "Experts Assigned to Task 12: [8]\n",
      "Experts Assigned to Task 13: [20, 24]\n",
      "Experts Assigned to Task 14: [35, 36]\n",
      "Experts Assigned to Task 15: [11, 49]\n",
      "Experts Assigned to Task 16: [45]\n",
      "Experts Assigned to Task 17: [9]\n",
      "Experts Assigned to Task 18: [15]\n",
      "Experts Assigned to Task 19: [38, 48]\n",
      "Experts Assigned to Task 20: [29, 40]\n",
      "Experts Assigned to Task 21: [2]\n",
      "Experts Assigned to Task 22: [4]\n",
      "Experts Assigned to Task 23: [25]\n",
      "Experts Assigned to Task 24: [34]\n",
      "Experts Assigned to Task 25: [13, 59]\n",
      "Experts Assigned to Task 26: [18]\n",
      "Experts Assigned to Task 27: [42, 55]\n",
      "Experts Assigned to Task 28: []\n",
      "Experts Assigned to Task 29: [43]\n",
      "Experts Assigned to Task 30: [16]\n",
      "Experts Assigned to Task 31: [17]\n",
      "Experts Assigned to Task 32: [30]\n",
      "Experts Assigned to Task 33: [58]\n",
      "Experts Assigned to Task 34: [39]\n",
      "Experts Assigned to Task 35: [1]\n",
      "Experts Assigned to Task 36: [5]\n",
      "Experts Assigned to Task 37: [3]\n",
      "Experts Assigned to Task 38: [19]\n",
      "Experts Assigned to Task 39: [21]\n",
      "Experts Assigned to Task 40: [22]\n",
      "Experts Assigned to Task 41: [23, 33]\n",
      "Experts Assigned to Task 42: [27]\n",
      "Experts Assigned to Task 43: [0]\n",
      "Experts Assigned to Task 44: []\n",
      "Experts Assigned to Task 45: [46]\n",
      "Experts Assigned to Task 46: [54]\n",
      "Experts Assigned to Task 47: [10, 50]\n",
      "Experts Assigned to Task 48: [7]\n",
      "Experts Assigned to Task 49: [51]\n"
     ]
    }
   ],
   "source": [
    "FreelancerTest.displayTaskAssignment(FreelancerTest.taskAssignment)"
   ]
  },
  {
   "cell_type": "code",
   "execution_count": null,
   "metadata": {},
   "outputs": [],
   "source": []
  }
 ],
 "metadata": {
  "interpreter": {
   "hash": "916dbcbb3f70747c44a77c7bcd40155683ae19c65e1c03b4aa3499c5328201f1"
  },
  "kernelspec": {
   "display_name": "Python 3.8.10 64-bit",
   "language": "python",
   "name": "python3"
  },
  "language_info": {
   "codemirror_mode": {
    "name": "ipython",
    "version": 3
   },
   "file_extension": ".py",
   "mimetype": "text/x-python",
   "name": "python",
   "nbconvert_exporter": "python",
   "pygments_lexer": "ipython3",
   "version": "3.8.10"
  },
  "orig_nbformat": 4
 },
 "nbformat": 4,
 "nbformat_minor": 2
}
