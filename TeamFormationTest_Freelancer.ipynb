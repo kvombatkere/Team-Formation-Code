{
 "cells": [
  {
   "cell_type": "code",
   "execution_count": 1,
   "metadata": {},
   "outputs": [],
   "source": [
    "## Test Team Formation framework with Freelancer Data\n",
    "## Balancing Task Coverage vs. Maximum Expert Load\n",
    "## Karan Vombatkere, Dec 2021\n",
    "\n",
    "#Imports\n",
    "import pandas as pd\n",
    "import TeamFormationProblem as TFP"
   ]
  },
  {
   "cell_type": "code",
   "execution_count": 2,
   "metadata": {},
   "outputs": [],
   "source": [
    "#Preliminary Testing\n",
    "task_list = [['s1', 's2', 's4', 's5'], ['s3', 's2'], ['s1', 's3', 's5'], ['s2', 's4'],['s1', 's4', 's5'], ['s3'], ['s1', 's5'], ['s2', 's4']]\n",
    "expert_list = [['s2', 's3'], ['s2', 's4'], ['s3'], ['s5', 's4']]"
   ]
  },
  {
   "cell_type": "code",
   "execution_count": 3,
   "metadata": {},
   "outputs": [
    {
     "name": "stderr",
     "output_type": "stream",
     "text": [
      "2021-12-21 17:43:31,250 |INFO: Team Formation Problem initialized with 8 tasks and 4 experts\n",
      "2021-12-21 17:43:31,252 |INFO: --------------------------------------------------------------------------------------------------\n",
      "2021-12-21 17:43:31,253 |INFO: Computing Greedy Task Assignment for threshold max load, T_i=1\n",
      "2021-12-21 17:43:31,254 |INFO: Expert Index List: [0, 1, 2, 3]\n",
      "2021-12-21 17:43:31,256 |INFO: Greedy Task Assignment = \n",
      "[[0 1 0 0 0 0 0 0]\n",
      " [0 0 0 1 0 0 0 0]\n",
      " [0 0 0 0 0 1 0 0]\n",
      " [0 0 0 0 1 0 0 0]]\n",
      "2021-12-21 17:43:31,257 |INFO: F_i = 2.667\n",
      "2021-12-21 17:43:31,258 |INFO: --------------------------------------------------------------------------------------------------\n",
      "2021-12-21 17:43:31,259 |INFO: Computing Greedy Task Assignment for threshold max load, T_i=2\n",
      "2021-12-21 17:43:31,260 |INFO: Expert Index List: [0, 1, 2, 3, 0, 1, 2, 3]\n",
      "2021-12-21 17:43:31,266 |INFO: Greedy Task Assignment = \n",
      "[[0 1 1 0 0 0 0 0]\n",
      " [0 0 0 1 0 0 0 1]\n",
      " [0 0 0 0 0 1 0 0]\n",
      " [1 0 0 0 1 0 0 0]]\n",
      "2021-12-21 17:43:31,267 |INFO: F_i = 3.500\n",
      "2021-12-21 17:43:31,268 |INFO: --------------------------------------------------------------------------------------------------\n",
      "2021-12-21 17:43:31,269 |INFO: Computing Greedy Task Assignment for threshold max load, T_i=3\n",
      "2021-12-21 17:43:31,270 |INFO: Expert Index List: [0, 1, 2, 3, 0, 1, 2, 3, 0, 1, 2, 3]\n",
      "2021-12-21 17:43:31,279 |INFO: Greedy Task Assignment = \n",
      "[[1 1 1 0 0 0 0 0]\n",
      " [0 0 0 1 0 0 0 1]\n",
      " [0 0 0 0 0 1 0 0]\n",
      " [1 0 0 0 1 0 1 0]]\n",
      "2021-12-21 17:43:31,280 |INFO: F_i = 3.250\n",
      "2021-12-21 17:43:31,281 |INFO: Best Task Assignment is for max workload threshold: 2, F_i(max)=3.500 \n",
      "[[0 1 1 0 0 0 0 0]\n",
      " [0 0 0 1 0 0 0 1]\n",
      " [0 0 0 0 0 1 0 0]\n",
      " [1 0 0 0 1 0 0 0]]\n",
      "2021-12-21 17:43:31,282 |INFO: \n",
      "Total Computation time = 0.030 seconds\n"
     ]
    }
   ],
   "source": [
    "teamFormationTest = TFP.TeamFormationProblem(task_list, expert_list)\n",
    "teamFormationTest.computeTaskAssigment()"
   ]
  },
  {
   "cell_type": "code",
   "execution_count": null,
   "metadata": {},
   "outputs": [],
   "source": []
  },
  {
   "cell_type": "code",
   "execution_count": 4,
   "metadata": {},
   "outputs": [],
   "source": [
    "#Import Freelancer data\n",
    "#Freelancer from DropBox link: https://www.dropbox.com/sh/8zpsi1etvvvvj5k/AAD-J9ZQmSsbnSmEILBMD9uxa/datasets/real?dl=0&subfolder_nav_tracking=1\n",
    "#freelance_experts.csv and freelance_projects.csv\n",
    "\n",
    "def extract_skills(row):\n",
    "    skills = []\n",
    "    for i,val in enumerate(row):\n",
    "        if val == 1:\n",
    "            skills+=str(i)\n",
    "    return skills            \n",
    "\n",
    "    \n",
    "def importFreelancerData(experts_filename='../Datasets/freelance_experts.csv', tasks_filename='../Datasets/freelance_projects.csv'):\n",
    "    #Extract tasks skills as list\n",
    "    freelance_tasks_df = pd.read_csv(tasks_filename, header=None)\n",
    "    freelance_tasks_df['Task_Skills'] = freelance_tasks_df.apply(lambda row: extract_skills(row), axis=1)\n",
    "    task_skills_list = freelance_tasks_df.Task_Skills.to_list()\n",
    "    \n",
    "    #Extract experts skills as list\n",
    "    freelance_experts_df = pd.read_csv(experts_filename, header=None)\n",
    "    freelance_experts_df['Expert_Skills'] = freelance_experts_df.apply(lambda row: extract_skills(row), axis=1)\n",
    "    expert_skills_list = freelance_experts_df.Expert_Skills.to_list()\n",
    "\n",
    "    return task_skills_list, expert_skills_list\n",
    "    "
   ]
  },
  {
   "cell_type": "code",
   "execution_count": 5,
   "metadata": {},
   "outputs": [],
   "source": [
    "t,e = importFreelancerData()"
   ]
  },
  {
   "cell_type": "code",
   "execution_count": 6,
   "metadata": {},
   "outputs": [
    {
     "name": "stderr",
     "output_type": "stream",
     "text": [
      "2021-12-21 17:43:51,607 |INFO: Team Formation Problem initialized with 10 tasks and 10 experts\n"
     ]
    }
   ],
   "source": [
    "FreelancerTest = TFP.TeamFormationProblem(t[0:10], e[0:10], max_workload_threshold=2)"
   ]
  },
  {
   "cell_type": "code",
   "execution_count": 7,
   "metadata": {},
   "outputs": [
    {
     "name": "stderr",
     "output_type": "stream",
     "text": [
      "2021-12-21 17:43:53,335 |INFO: --------------------------------------------------------------------------------------------------\n",
      "2021-12-21 17:43:53,337 |INFO: Computing Greedy Task Assignment for threshold max load, T_i=1\n",
      "2021-12-21 17:43:53,338 |INFO: Expert Index List: [0, 1, 2, 3, 4, 5, 6, 7, 8, 9]\n",
      "2021-12-21 17:43:53,356 |INFO: Greedy Task Assignment = \n",
      "[[0 0 0 0 0 0 1 0 0 0]\n",
      " [0 0 0 0 0 1 0 0 0 0]\n",
      " [1 0 0 0 0 0 0 0 0 0]\n",
      " [0 0 0 0 1 0 0 0 0 0]\n",
      " [1 0 0 0 0 0 0 0 0 0]\n",
      " [0 0 0 0 0 0 1 0 0 0]\n",
      " [0 0 0 1 0 0 0 0 0 0]\n",
      " [0 0 1 0 0 0 0 0 0 0]\n",
      " [0 0 0 0 0 0 0 0 0 1]\n",
      " [0 0 0 0 0 1 0 0 0 0]]\n",
      "2021-12-21 17:43:53,357 |INFO: F_i = 4.131\n",
      "2021-12-21 17:43:53,357 |INFO: --------------------------------------------------------------------------------------------------\n",
      "2021-12-21 17:43:53,358 |INFO: Computing Greedy Task Assignment for threshold max load, T_i=2\n",
      "2021-12-21 17:43:53,358 |INFO: Expert Index List: [0, 1, 2, 3, 4, 5, 6, 7, 8, 9, 0, 1, 2, 3, 4, 5, 6, 7, 8, 9]\n",
      "2021-12-21 17:43:53,409 |INFO: Greedy Task Assignment = \n",
      "[[0 0 0 0 0 0 1 0 1 0]\n",
      " [0 0 0 0 0 0 0 0 0 0]\n",
      " [0 0 0 0 0 1 0 1 0 0]\n",
      " [0 0 0 0 1 0 0 0 1 0]\n",
      " [0 0 0 0 1 0 1 0 0 0]\n",
      " [0 0 0 0 0 0 1 0 0 1]\n",
      " [0 1 0 1 0 0 0 0 0 0]\n",
      " [0 0 1 0 0 0 0 1 0 0]\n",
      " [1 0 0 0 0 0 0 0 0 1]\n",
      " [0 0 0 0 0 1 0 1 0 0]]\n",
      "2021-12-21 17:43:53,410 |INFO: F_i = 6.198\n",
      "2021-12-21 17:43:53,411 |INFO: Best Task Assignment is for max workload threshold: 2, F_i(max)=6.198 \n",
      "[[0 0 0 0 0 0 1 0 1 0]\n",
      " [0 0 0 0 0 0 0 0 0 0]\n",
      " [0 0 0 0 0 1 0 1 0 0]\n",
      " [0 0 0 0 1 0 0 0 1 0]\n",
      " [0 0 0 0 1 0 1 0 0 0]\n",
      " [0 0 0 0 0 0 1 0 0 1]\n",
      " [0 1 0 1 0 0 0 0 0 0]\n",
      " [0 0 1 0 0 0 0 1 0 0]\n",
      " [1 0 0 0 0 0 0 0 0 1]\n",
      " [0 0 0 0 0 1 0 1 0 0]]\n",
      "2021-12-21 17:43:53,413 |INFO: \n",
      "Total Computation time = 0.077 seconds\n"
     ]
    }
   ],
   "source": [
    "FreelancerTest.computeTaskAssigment()"
   ]
  },
  {
   "cell_type": "code",
   "execution_count": 8,
   "metadata": {},
   "outputs": [
    {
     "name": "stdout",
     "output_type": "stream",
     "text": [
      "Experts Assigned to Task 0: [8]\n",
      "Experts Assigned to Task 1: [6]\n",
      "Experts Assigned to Task 2: [7]\n",
      "Experts Assigned to Task 3: [6]\n",
      "Experts Assigned to Task 4: [3, 4]\n",
      "Experts Assigned to Task 5: [2, 9]\n",
      "Experts Assigned to Task 6: [0, 4, 5]\n",
      "Experts Assigned to Task 7: [2, 7, 9]\n",
      "Experts Assigned to Task 8: [0, 3]\n",
      "Experts Assigned to Task 9: [5, 8]\n"
     ]
    }
   ],
   "source": [
    "FreelancerTest.displayTaskAssignment(FreelancerTest.taskAssignment)"
   ]
  },
  {
   "cell_type": "code",
   "execution_count": null,
   "metadata": {},
   "outputs": [],
   "source": []
  }
 ],
 "metadata": {
  "interpreter": {
   "hash": "916dbcbb3f70747c44a77c7bcd40155683ae19c65e1c03b4aa3499c5328201f1"
  },
  "kernelspec": {
   "display_name": "Python 3.8.10 64-bit",
   "language": "python",
   "name": "python3"
  },
  "language_info": {
   "codemirror_mode": {
    "name": "ipython",
    "version": 3
   },
   "file_extension": ".py",
   "mimetype": "text/x-python",
   "name": "python",
   "nbconvert_exporter": "python",
   "pygments_lexer": "ipython3",
   "version": "3.8.10"
  },
  "orig_nbformat": 4
 },
 "nbformat": 4,
 "nbformat_minor": 2
}
