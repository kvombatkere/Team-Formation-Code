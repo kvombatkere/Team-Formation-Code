{
 "cells": [
  {
   "cell_type": "code",
   "execution_count": 1,
   "metadata": {},
   "outputs": [],
   "source": [
    "## Test Team Formation framework with Freelancer Data\n",
    "## Balancing Task Coverage vs. Maximum Expert Load\n",
    "## Karan Vombatkere, Dec 2021\n",
    "\n",
    "#Imports\n",
    "import pandas as pd\n",
    "import TeamFormationProblem as TFP"
   ]
  },
  {
   "cell_type": "code",
   "execution_count": 2,
   "metadata": {},
   "outputs": [],
   "source": [
    "#Preliminary Testing\n",
    "task_list = [['s1', 's2', 's4', 's5'], ['s3', 's2'], ['s1', 's3', 's5'], ['s2', 's4'],['s1', 's4', 's5'], ['s3'], ['s1', 's5'], ['s2', 's4']]\n",
    "expert_list = [['s2', 's3'], ['s2', 's4'], ['s3'], ['s5', 's4']]"
   ]
  },
  {
   "cell_type": "code",
   "execution_count": 3,
   "metadata": {},
   "outputs": [
    {
     "name": "stderr",
     "output_type": "stream",
     "text": [
      "2022-01-07 19:43:44,978 |INFO: Team Formation Problem initialized with 8 tasks and 4 experts\n"
     ]
    }
   ],
   "source": [
    "teamFormationTest = TFP.TeamFormationProblem(task_list, expert_list, max_workload_threshold=4)\n",
    "#teamFormationTest.computeTaskAssigment(lazy_eval=True)\n",
    "#teamFormationTest.computeTaskAssigment(lazy_eval=False)"
   ]
  },
  {
   "cell_type": "code",
   "execution_count": 4,
   "metadata": {},
   "outputs": [
    {
     "name": "stderr",
     "output_type": "stream",
     "text": [
      "2022-01-07 19:43:45,761 |INFO: --------------------------------------------------------------------------------------------------\n",
      "2022-01-07 19:43:45,762 |INFO: Computing Greedy Task Assignment (Lazy Eval) for max load, T_i=1\n",
      "2022-01-07 19:43:45,763 |INFO: Greedy Task Assignment (Lazy Eval): \n",
      "[[0 1 0 0 0 0 0 0]\n",
      " [0 0 0 1 0 0 0 0]\n",
      " [0 0 0 0 0 1 0 0]\n",
      " [0 0 0 0 1 0 0 0]]\n",
      "2022-01-07 19:43:45,765 |INFO: F_i = 2.667\n",
      "2022-01-07 19:43:45,766 |INFO: Baseline Random Task Assignment for max load, T_i=1\n",
      "2022-01-07 19:43:45,767 |INFO: Baseline Random Task Assignment: \n",
      "[[0 0 0 0 0 0 0 1]\n",
      " [0 0 0 0 0 1 0 0]\n",
      " [0 1 0 0 0 0 0 0]\n",
      " [0 0 0 0 1 0 0 0]]\n",
      "2022-01-07 19:43:45,769 |INFO: Baseline Random F_i = 0.667\n",
      "2022-01-07 19:43:45,769 |INFO: Baseline No Update Greedy Task Assignment for max load, T_i=1\n",
      "2022-01-07 19:43:45,771 |INFO: Baseline No Update Greedy Task Assignment: \n",
      "[[0 1 0 0 0 0 0 0]\n",
      " [0 0 0 1 0 0 0 0]\n",
      " [0 0 0 0 0 1 0 0]\n",
      " [0 0 0 0 1 0 0 0]]\n",
      "2022-01-07 19:43:45,771 |INFO: Baseline No Update Greedy F_i = 2.667\n",
      "2022-01-07 19:43:45,772 |INFO: --------------------------------------------------------------------------------------------------\n",
      "2022-01-07 19:43:45,773 |INFO: Computing Greedy Task Assignment (Lazy Eval) for max load, T_i=2\n",
      "2022-01-07 19:43:45,775 |INFO: Greedy Task Assignment (Lazy Eval): \n",
      "[[0 1 0 0 0 1 0 0]\n",
      " [0 0 0 1 0 0 0 1]\n",
      " [0 0 1 0 0 0 0 0]\n",
      " [1 0 0 0 1 0 0 0]]\n",
      "2022-01-07 19:43:45,775 |INFO: F_i = 3.500\n",
      "2022-01-07 19:43:45,776 |INFO: Baseline Random Task Assignment for max load, T_i=2\n",
      "2022-01-07 19:43:45,778 |INFO: Baseline Random Task Assignment: \n",
      "[[0 0 0 0 1 1 0 0]\n",
      " [1 0 0 0 1 0 0 0]\n",
      " [0 0 0 0 0 0 1 1]\n",
      " [1 0 0 0 1 0 0 0]]\n",
      "2022-01-07 19:43:45,778 |INFO: Baseline Random F_i = 0.167\n",
      "2022-01-07 19:43:45,779 |INFO: Baseline No Update Greedy Task Assignment for max load, T_i=2\n",
      "2022-01-07 19:43:45,781 |INFO: Baseline No Update Greedy Task Assignment: \n",
      "[[0 1 0 0 0 1 0 0]\n",
      " [0 0 0 1 0 0 0 1]\n",
      " [0 0 0 0 0 1 0 0]\n",
      " [0 0 0 0 0 0 0 0]]\n",
      "2022-01-07 19:43:45,783 |INFO: Baseline No Update Greedy F_i = 2.000\n",
      "2022-01-07 19:43:45,783 |INFO: --------------------------------------------------------------------------------------------------\n",
      "2022-01-07 19:43:45,784 |INFO: Computing Greedy Task Assignment (Lazy Eval) for max load, T_i=3\n",
      "2022-01-07 19:43:45,785 |INFO: Greedy Task Assignment (Lazy Eval): \n",
      "[[0 1 1 0 0 1 0 0]\n",
      " [1 0 0 1 0 0 0 1]\n",
      " [0 0 0 0 0 0 0 0]\n",
      " [0 0 0 0 1 0 1 0]]\n",
      "2022-01-07 19:43:45,788 |INFO: F_i = 3.000\n",
      "2022-01-07 19:43:45,789 |INFO: Baseline Random Task Assignment for max load, T_i=3\n",
      "2022-01-07 19:43:45,791 |INFO: Baseline Random Task Assignment: \n",
      "[[0 1 0 1 0 1 0 0]\n",
      " [0 0 1 0 1 0 0 1]\n",
      " [1 0 1 1 0 0 0 0]\n",
      " [1 0 1 0 0 0 0 0]]\n",
      "2022-01-07 19:43:45,792 |INFO: Baseline Random F_i = 1.167\n",
      "2022-01-07 19:43:45,793 |INFO: Baseline No Update Greedy Task Assignment for max load, T_i=3\n",
      "2022-01-07 19:43:45,794 |INFO: Baseline No Update Greedy Task Assignment: \n",
      "[[0 1 0 0 0 1 0 0]\n",
      " [0 0 0 1 0 0 0 1]\n",
      " [0 0 0 0 0 1 0 0]\n",
      " [0 0 0 0 0 0 0 0]]\n",
      "2022-01-07 19:43:45,795 |INFO: Baseline No Update Greedy F_i = 1.000\n",
      "2022-01-07 19:43:45,795 |INFO: --------------------------------------------------------------------------------------------------\n",
      "2022-01-07 19:43:45,796 |INFO: Computing Greedy Task Assignment (Lazy Eval) for max load, T_i=4\n",
      "2022-01-07 19:43:45,798 |INFO: Greedy Task Assignment (Lazy Eval): \n",
      "[[0 1 1 0 0 1 0 0]\n",
      " [1 0 0 1 0 0 0 1]\n",
      " [0 0 0 0 0 0 0 0]\n",
      " [0 0 0 0 1 0 1 0]]\n",
      "2022-01-07 19:43:45,800 |INFO: F_i = 2.000\n",
      "2022-01-07 19:43:45,802 |INFO: Baseline Random Task Assignment for max load, T_i=4\n",
      "2022-01-07 19:43:45,804 |INFO: Baseline Random Task Assignment: \n",
      "[[1 1 1 0 0 0 1 0]\n",
      " [0 0 1 1 0 1 0 1]\n",
      " [0 0 0 0 1 0 1 0]\n",
      " [1 0 0 0 0 0 0 0]]\n",
      "2022-01-07 19:43:45,805 |INFO: Baseline Random F_i = -0.500\n",
      "2022-01-07 19:43:45,806 |INFO: Baseline No Update Greedy Task Assignment for max load, T_i=4\n",
      "2022-01-07 19:43:45,807 |INFO: Baseline No Update Greedy Task Assignment: \n",
      "[[0 1 0 0 0 1 0 0]\n",
      " [0 0 0 1 0 0 0 1]\n",
      " [0 0 0 0 0 1 0 0]\n",
      " [0 0 0 0 0 0 0 0]]\n",
      "2022-01-07 19:43:45,808 |INFO: Baseline No Update Greedy F_i = 0.000\n",
      "2022-01-07 19:43:45,809 |INFO: Best Task Assignment is for max workload threshold: 2, F_i(max)=3.500 \n",
      "[[0 1 0 0 0 1 0 0]\n",
      " [0 0 0 1 0 0 0 1]\n",
      " [0 0 1 0 0 0 0 0]\n",
      " [1 0 0 0 1 0 0 0]]\n",
      "2022-01-07 19:43:45,809 |INFO: \n",
      "Total Computation time = 0.048 seconds\n"
     ]
    }
   ],
   "source": [
    "teamFormationTest.computeTaskAssigment(lazy_eval=True)"
   ]
  },
  {
   "cell_type": "code",
   "execution_count": null,
   "metadata": {},
   "outputs": [],
   "source": [
    "teamFormationTest.compareTest_Lazy_Stochastic_Assignments()"
   ]
  },
  {
   "cell_type": "code",
   "execution_count": null,
   "metadata": {},
   "outputs": [],
   "source": []
  },
  {
   "cell_type": "code",
   "execution_count": null,
   "metadata": {},
   "outputs": [],
   "source": [
    "#Import Freelancer data\n",
    "#Freelancer from DropBox link: https://www.dropbox.com/sh/8zpsi1etvvvvj5k/AAD-J9ZQmSsbnSmEILBMD9uxa/datasets/real?dl=0&subfolder_nav_tracking=1\n",
    "#freelance_experts.csv and freelance_projects.csv\n",
    "\n",
    "def extract_skills(row):\n",
    "    skills = []\n",
    "    for i,val in enumerate(row):\n",
    "        if val == 1:\n",
    "            skills+=str(i)\n",
    "    return skills            \n",
    "\n",
    "    \n",
    "def importFreelancerData(experts_filename='../Datasets/freelance_experts.csv', tasks_filename='../Datasets/freelance_projects.csv'):\n",
    "    #Extract tasks skills as list\n",
    "    freelance_tasks_df = pd.read_csv(tasks_filename, header=None)\n",
    "    freelance_tasks_df['Task_Skills'] = freelance_tasks_df.apply(lambda row: extract_skills(row), axis=1)\n",
    "    task_skills_list = freelance_tasks_df.Task_Skills.to_list()\n",
    "    \n",
    "    #Extract experts skills as list\n",
    "    freelance_experts_df = pd.read_csv(experts_filename, header=None)\n",
    "    freelance_experts_df['Expert_Skills'] = freelance_experts_df.apply(lambda row: extract_skills(row), axis=1)\n",
    "    expert_skills_list = freelance_experts_df.Expert_Skills.to_list()\n",
    "\n",
    "    return task_skills_list, expert_skills_list\n",
    "    "
   ]
  },
  {
   "cell_type": "code",
   "execution_count": null,
   "metadata": {},
   "outputs": [],
   "source": [
    "t,e = importFreelancerData()\n",
    "FreelancerTest = TFP.TeamFormationProblem(t[0:100], e[0:100], max_workload_threshold=50)"
   ]
  },
  {
   "cell_type": "code",
   "execution_count": null,
   "metadata": {},
   "outputs": [],
   "source": [
    "FreelancerTest.compareTest_Lazy_Stochastic_Assignments()"
   ]
  },
  {
   "cell_type": "code",
   "execution_count": null,
   "metadata": {},
   "outputs": [],
   "source": [
    "FreelancerTest.computeTaskAssigment(lazy_eval=True)"
   ]
  },
  {
   "cell_type": "code",
   "execution_count": null,
   "metadata": {},
   "outputs": [],
   "source": []
  }
 ],
 "metadata": {
  "interpreter": {
   "hash": "916dbcbb3f70747c44a77c7bcd40155683ae19c65e1c03b4aa3499c5328201f1"
  },
  "kernelspec": {
   "display_name": "Python 3.8.10 64-bit",
   "language": "python",
   "name": "python3"
  },
  "language_info": {
   "codemirror_mode": {
    "name": "ipython",
    "version": 3
   },
   "file_extension": ".py",
   "mimetype": "text/x-python",
   "name": "python",
   "nbconvert_exporter": "python",
   "pygments_lexer": "ipython3",
   "version": "3.8.10"
  },
  "orig_nbformat": 4
 },
 "nbformat": 4,
 "nbformat_minor": 2
}
