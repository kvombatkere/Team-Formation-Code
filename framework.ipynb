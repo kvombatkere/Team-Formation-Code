{
 "cells": [
  {
   "cell_type": "code",
   "execution_count": 2,
   "metadata": {},
   "outputs": [],
   "source": [
    "## Implementation Framework for Team Formation problem- Balancing Task Coverage vs. Maximum Expert Load\n",
    "## Karan Vombatkere, Dec 2021\n",
    "\n",
    "import numpy as np"
   ]
  },
  {
   "cell_type": "code",
   "execution_count": null,
   "metadata": {},
   "outputs": [],
   "source": [
    "class TeamFormationProblem:\n",
    "    '''\n",
    "    Class to implement base framework for Team Formation problem\n",
    "    The goal is to optimally Balance Task Coverage vs. Maximum Expert Load\n",
    "\n",
    "    Parameters\n",
    "    ----------\n",
    "        m_tasks : list of m tasks; each task is a list of skills\n",
    "        n_experts : list of n experts; each expert is a list of skills\n",
    "    ----------\n",
    "    '''\n",
    "\n",
    "    def __init__(self, m_tasks, n_experts):\n",
    "        '''\n",
    "        Initialize problem instance with m tasks, n experts\n",
    "\n",
    "        Args:\n",
    "            m_tasks : list of m tasks; each task is a list of skills\n",
    "            n_experts : list of n experts; each expert is a list of skills\n",
    "        ----------\n",
    "        self.taskAssignment  : Created (n x m) matrix to store task assignment\n",
    "                                n rows represent the n experts, m columns are for m tasks\n",
    "        '''\n",
    "        self.tasks = m_tasks\n",
    "        self.m = len(self.tasks)\n",
    "\n",
    "        self.experts = n_experts\n",
    "        self.n = len(self.experts)\n",
    "\n",
    "        #self.taskAssignment = np.zeros((self.n, self.m))\n",
    "\n",
    "\n",
    "\n",
    "    def singleTaskCoverage(self, taskAssignment, task, task_index):\n",
    "        '''\n",
    "        Given a taskAssignment, compute the task coverage of a single task\n",
    "        \n",
    "        Args:\n",
    "            tasks : task to compute coverage of\n",
    "            task_index  : index of task in original list m_tasks\n",
    "        '''\n",
    "\n",
    "\n",
    "\n",
    "    def maximumExpertLoad(self):\n",
    "        '''\n",
    "        Assume a taskAssignment, compute the maximum expert load\n",
    "        '''\n",
    "    \n",
    "\n",
    "\n",
    "    def computeTotalTaskCoverage(self, taskAssigment):\n",
    "        '''\n",
    "        Given a taskAssignment, compute the total task coverage of the assigment\n",
    "        '''\n",
    "\n",
    "\n",
    "    \n",
    "    def getBestExpertTaskEdge(self, taskAssignment, experts_arr, tasks_arr):\n",
    "        '''\n",
    "        Greedily compute the best expert-task edge (assigment) that maximizes coverage in that iteration\n",
    "        \n",
    "        Args:\n",
    "            taskAssignment : current task assigment\n",
    "            experts_arr  : current set of available experts\n",
    "            tasks_arr   : set of tasks\n",
    "        '''\n",
    "        # for E_i in experts_arr:\n",
    "        #     for T_j in tasks_arr:\n",
    "\n",
    "\n",
    "\n",
    "    def greedyTaskAssignment(self, tasks, experts):\n",
    "        '''\n",
    "        Greedily compute a Task Assignment given a set of tasks and experts\n",
    "        '''\n",
    "        #Create empty task assigment matrix\n",
    "        taskAssignment_i = np.zeros((self.n, self.m))\n",
    "\n",
    "        currentCoverage = 0\n",
    "        delta_coverage = 1\n",
    "\n",
    "        # while delta_coverage != 0:\n",
    "            #Get next best assignment and coverage value\n",
    "        \n",
    "\n",
    "\n",
    "\n",
    "    def computeTaskAssigment(self):\n",
    "        '''\n",
    "        Compute a Task Assignment, of experts to tasks.\n",
    "        Use m thresholds for the maximum load, and call a greedy method for each threshold\n",
    "        Store this task assignment in self.taskAssignment\n",
    "        '''\n",
    "        F_max = 0 #store maximum objective value\n",
    "\n",
    "        for T_i in range(self.m):\n",
    "            \n",
    "            #Create t copies of each expert\n",
    "\n",
    "            #Create empty task assigment matrix\n",
    "            taskAssignment_i = np.zeros((self.n, self.m))\n",
    "\n",
    "            #Greedily assign experts to tasks\n",
    "            \n",
    "\n",
    "            #Compute Objective: Coverage - T_i\n",
    "            F_i = self.computeTotalTaskCoverage(taskAssignment_i) - T_i\n",
    "\n",
    "            if F_i >= F_max:\n",
    "                F_max = F_i\n",
    "                self.taskAssignment = taskAssignment_i\n",
    "\n",
    "\n",
    "        return self.taskAssignment\n",
    "\n"
   ]
  },
  {
   "cell_type": "code",
   "execution_count": null,
   "metadata": {},
   "outputs": [],
   "source": []
  },
  {
   "cell_type": "code",
   "execution_count": 9,
   "metadata": {},
   "outputs": [],
   "source": [
    "x=np.zeros((3,2))"
   ]
  },
  {
   "cell_type": "code",
   "execution_count": 10,
   "metadata": {},
   "outputs": [
    {
     "data": {
      "text/plain": [
       "array([[0., 0.],\n",
       "       [0., 0.],\n",
       "       [0., 0.]])"
      ]
     },
     "execution_count": 10,
     "metadata": {},
     "output_type": "execute_result"
    }
   ],
   "source": [
    "x"
   ]
  },
  {
   "cell_type": "code",
   "execution_count": null,
   "metadata": {},
   "outputs": [],
   "source": []
  }
 ],
 "metadata": {
  "interpreter": {
   "hash": "916dbcbb3f70747c44a77c7bcd40155683ae19c65e1c03b4aa3499c5328201f1"
  },
  "kernelspec": {
   "display_name": "Python 3.8.10 64-bit",
   "language": "python",
   "name": "python3"
  },
  "language_info": {
   "codemirror_mode": {
    "name": "ipython",
    "version": 3
   },
   "file_extension": ".py",
   "mimetype": "text/x-python",
   "name": "python",
   "nbconvert_exporter": "python",
   "pygments_lexer": "ipython3",
   "version": "3.8.10"
  },
  "orig_nbformat": 4
 },
 "nbformat": 4,
 "nbformat_minor": 2
}
